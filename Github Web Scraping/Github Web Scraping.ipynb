{
 "cells": [
  {
   "cell_type": "markdown",
   "id": "4616d65c",
   "metadata": {},
   "source": [
    "# GitHub Web Scraping Project"
   ]
  },
  {
   "cell_type": "markdown",
   "id": "0f5fb041",
   "metadata": {},
   "source": [
    "### Objective\n",
    "\n",
    "#### What It Does\n",
    "- The project below will scrape data from GitHub's \"Topic\" webpage: https://github.com/topics \n",
    "- The following information is scraped: the topic name, the topic title, topic page URL and description. \n",
    "- For each topic, the top 25 repositories will be extracted from the topic page. \n",
    "- For each repository, the project gets the repo name, the owner of the repository, the number of stars it has, as well as the repo URL. \n",
    "- All of this will be written to a topic csv file. \n",
    "- Each topic will have its own csv file.\n",
    "\n",
    "#### Topic CSV File Layout\n",
    "```\n",
    "Repo Name,Username,Stars,Repo URL\n",
    "Blog,ljianshu,7700,https://github.com/ljianshu/Blog\n",
    "```\n"
   ]
  },
  {
   "cell_type": "markdown",
   "id": "4aaa7fcb",
   "metadata": {},
   "source": [
    "## Use the requests library to download web pages\n"
   ]
  },
  {
   "cell_type": "code",
   "execution_count": 1,
   "id": "63b8ba98",
   "metadata": {},
   "outputs": [
    {
     "name": "stdout",
     "output_type": "stream",
     "text": [
      "Requirement already satisfied: requests in c:\\users\\asmig\\anaconda3\\lib\\site-packages (2.31.0)\n",
      "Requirement already satisfied: urllib3<3,>=1.21.1 in c:\\users\\asmig\\anaconda3\\lib\\site-packages (from requests) (1.26.14)\n",
      "Requirement already satisfied: idna<4,>=2.5 in c:\\users\\asmig\\anaconda3\\lib\\site-packages (from requests) (3.4)\n",
      "Requirement already satisfied: certifi>=2017.4.17 in c:\\users\\asmig\\anaconda3\\lib\\site-packages (from requests) (2022.12.7)\n",
      "Requirement already satisfied: charset-normalizer<4,>=2 in c:\\users\\asmig\\anaconda3\\lib\\site-packages (from requests) (2.0.4)\n"
     ]
    }
   ],
   "source": [
    "!pip install requests"
   ]
  },
  {
   "cell_type": "code",
   "execution_count": 2,
   "id": "3a405980",
   "metadata": {},
   "outputs": [],
   "source": [
    "import requests"
   ]
  },
  {
   "cell_type": "code",
   "execution_count": 3,
   "id": "4c2731d2",
   "metadata": {},
   "outputs": [],
   "source": [
    "topics_url = 'https://github.com/topics'"
   ]
  },
  {
   "cell_type": "code",
   "execution_count": 4,
   "id": "6ba8a89d",
   "metadata": {},
   "outputs": [],
   "source": [
    "response = requests.get(topics_url)"
   ]
  },
  {
   "cell_type": "code",
   "execution_count": 5,
   "id": "d25c9b97",
   "metadata": {},
   "outputs": [
    {
     "data": {
      "text/plain": [
       "200"
      ]
     },
     "execution_count": 5,
     "metadata": {},
     "output_type": "execute_result"
    }
   ],
   "source": [
    "response.status_code"
   ]
  },
  {
   "cell_type": "code",
   "execution_count": 6,
   "id": "f3320c89",
   "metadata": {},
   "outputs": [
    {
     "data": {
      "text/plain": [
       "166052"
      ]
     },
     "execution_count": 6,
     "metadata": {},
     "output_type": "execute_result"
    }
   ],
   "source": [
    "len(response.text)"
   ]
  },
  {
   "cell_type": "code",
   "execution_count": 7,
   "id": "fa828131",
   "metadata": {},
   "outputs": [
    {
     "data": {
      "text/plain": [
       "str"
      ]
     },
     "execution_count": 7,
     "metadata": {},
     "output_type": "execute_result"
    }
   ],
   "source": [
    "page_contents = response.text\n",
    "type(page_contents)"
   ]
  },
  {
   "cell_type": "code",
   "execution_count": 8,
   "id": "c6045c86",
   "metadata": {},
   "outputs": [
    {
     "data": {
      "text/plain": [
       "'\\n\\n<!DOCTYPE html>\\n<html lang=\"en\" data-color-mode=\"auto\" data-light-theme=\"light\" data-dark-theme=\"dark\"  data-a11y-animated-images=\"system\" data-a11y-link-underlines=\"false\">\\n\\n\\n  <head>\\n    <meta charset=\"utf-8\">\\n  <link rel=\"dns-prefetch\" href=\"https://github.githubassets.com\">\\n  <link rel=\"dns-prefetch\" href=\"https://avatars.githubusercontent.com\">\\n  <link rel=\"dns-prefetch\" href=\"https://github-cloud.s3.amazonaws.com\">\\n  <link rel=\"dns-prefetch\" href=\"https://user-images.githubusercontent.co'"
      ]
     },
     "execution_count": 8,
     "metadata": {},
     "output_type": "execute_result"
    }
   ],
   "source": [
    "page_contents[:500]"
   ]
  },
  {
   "cell_type": "code",
   "execution_count": 9,
   "id": "14614ca3",
   "metadata": {},
   "outputs": [],
   "source": [
    "# Writes the page_contents html to a webpage.html file, essentially mirroring the html of the topics_url above\n",
    "with open('webpage.html','w',encoding=\"utf-8\") as f:\n",
    "    f.write(page_contents)"
   ]
  },
  {
   "cell_type": "markdown",
   "id": "160a988e",
   "metadata": {},
   "source": [
    "## [Topics Webpage] Use Beautiful Soup to parse and extract information"
   ]
  },
  {
   "cell_type": "code",
   "execution_count": 10,
   "id": "9d5f953f",
   "metadata": {},
   "outputs": [],
   "source": [
    "from bs4 import BeautifulSoup"
   ]
  },
  {
   "cell_type": "code",
   "execution_count": 11,
   "id": "177c7c3a",
   "metadata": {},
   "outputs": [
    {
     "data": {
      "text/plain": [
       "bs4.BeautifulSoup"
      ]
     },
     "execution_count": 11,
     "metadata": {},
     "output_type": "execute_result"
    }
   ],
   "source": [
    "# Create the BeautifulSoup object with the parsed html contents\n",
    "doc = BeautifulSoup(page_contents,\"html.parser\")\n",
    "type(doc)"
   ]
  },
  {
   "cell_type": "code",
   "execution_count": 12,
   "id": "649195d2",
   "metadata": {},
   "outputs": [
    {
     "data": {
      "text/plain": [
       "30"
      ]
     },
     "execution_count": 12,
     "metadata": {},
     "output_type": "execute_result"
    }
   ],
   "source": [
    "# Get the title of each topic\n",
    "\n",
    "#Inspect the html on the GitHub page, find the exact list of classes that a topic name would have\n",
    "topic_name_class = 'f3 lh-condensed mb-0 mt-1 Link--primary'\n",
    "topic_name_p_tags = doc.find_all('p',{'class': topic_name_class})\n",
    "\n",
    "# 30 p_tags corresponds with the 30 displayed topics, as seen in the output of the cell below\n",
    "len(topic_name_p_tags)"
   ]
  },
  {
   "cell_type": "code",
   "execution_count": 13,
   "id": "4b68617b",
   "metadata": {},
   "outputs": [
    {
     "data": {
      "text/plain": [
       "[<p class=\"f3 lh-condensed mb-0 mt-1 Link--primary\">3D</p>,\n",
       " <p class=\"f3 lh-condensed mb-0 mt-1 Link--primary\">Ajax</p>,\n",
       " <p class=\"f3 lh-condensed mb-0 mt-1 Link--primary\">Algorithm</p>,\n",
       " <p class=\"f3 lh-condensed mb-0 mt-1 Link--primary\">Amp</p>,\n",
       " <p class=\"f3 lh-condensed mb-0 mt-1 Link--primary\">Android</p>]"
      ]
     },
     "execution_count": 13,
     "metadata": {},
     "output_type": "execute_result"
    }
   ],
   "source": [
    "topic_name_p_tags[:5]"
   ]
  },
  {
   "cell_type": "code",
   "execution_count": 15,
   "id": "ace8089e",
   "metadata": {},
   "outputs": [
    {
     "data": {
      "text/plain": [
       "30"
      ]
     },
     "execution_count": 15,
     "metadata": {},
     "output_type": "execute_result"
    }
   ],
   "source": [
    "# Get the description of each topic\n",
    "\n",
    "# Inspect the html on the GitHub page, find the exact list of classes that the topic description would have\n",
    "topic_desc_class = 'f5 color-fg-muted mb-0 mt-1'\n",
    "topic_desc_p_tags = doc.find_all('p',{'class': topic_desc_class})\n",
    "\n",
    "# 30 p_tags corresponds with the 30 displayed topics, as seen in the output of the cell below\n",
    "len(topic_desc_p_tags)"
   ]
  },
  {
   "cell_type": "code",
   "execution_count": 16,
   "id": "8962965d",
   "metadata": {},
   "outputs": [
    {
     "data": {
      "text/plain": [
       "[<p class=\"f5 color-fg-muted mb-0 mt-1\">\n",
       "           3D refers to the use of three-dimensional graphics, modeling, and animation in various industries.\n",
       "         </p>,\n",
       " <p class=\"f5 color-fg-muted mb-0 mt-1\">\n",
       "           Ajax is a technique for creating interactive web applications.\n",
       "         </p>,\n",
       " <p class=\"f5 color-fg-muted mb-0 mt-1\">\n",
       "           Algorithms are self-contained sequences that carry out a variety of tasks.\n",
       "         </p>,\n",
       " <p class=\"f5 color-fg-muted mb-0 mt-1\">\n",
       "           Amp is a non-blocking concurrency library for PHP.\n",
       "         </p>,\n",
       " <p class=\"f5 color-fg-muted mb-0 mt-1\">\n",
       "           Android is an operating system built by Google designed for mobile devices.\n",
       "         </p>]"
      ]
     },
     "execution_count": 16,
     "metadata": {},
     "output_type": "execute_result"
    }
   ],
   "source": [
    "topic_desc_p_tags[:5]"
   ]
  },
  {
   "cell_type": "code",
   "execution_count": 17,
   "id": "c4e87c86",
   "metadata": {},
   "outputs": [
    {
     "data": {
      "text/plain": [
       "'/topics/3d'"
      ]
     },
     "execution_count": 17,
     "metadata": {},
     "output_type": "execute_result"
    }
   ],
   "source": [
    "# Get the href of the 'a' tag of each topic (this helps us keep track of the link to the topic's webpage)\n",
    "topic_link_tags = doc.find_all('a',{'class':'no-underline flex-1 d-flex flex-column'})\n",
    "len(topic_link_tags)\n",
    "topic_link_tags[0]['href']"
   ]
  },
  {
   "cell_type": "code",
   "execution_count": 18,
   "id": "9e1c2c9c",
   "metadata": {},
   "outputs": [
    {
     "name": "stdout",
     "output_type": "stream",
     "text": [
      "https://github.com/topics/3d\n"
     ]
    }
   ],
   "source": [
    "# Prints the url of the first topic on the webpage\n",
    "topic0_url = \"https://github.com\" + topic_link_tags[0]['href']\n",
    "print(topic0_url)"
   ]
  },
  {
   "cell_type": "code",
   "execution_count": 19,
   "id": "e843351e",
   "metadata": {},
   "outputs": [
    {
     "name": "stdout",
     "output_type": "stream",
     "text": [
      "['3D', 'Ajax', 'Algorithm', 'Amp', 'Android', 'Angular', 'Ansible', 'API', 'Arduino', 'ASP.NET']\n"
     ]
    }
   ],
   "source": [
    "# Iterate through the topic_name_p_tags list, and append the topic titles to a list\n",
    "topic_titles = []\n",
    "\n",
    "for tag in topic_name_p_tags:\n",
    "    topic_titles.append(tag.text)\n",
    "\n",
    "print(topic_titles[:10])"
   ]
  },
  {
   "cell_type": "code",
   "execution_count": 20,
   "id": "0df1d1f5",
   "metadata": {},
   "outputs": [
    {
     "name": "stdout",
     "output_type": "stream",
     "text": [
      "['3D refers to the use of three-dimensional graphics, modeling, and animation in various industries.', 'Ajax is a technique for creating interactive web applications.', 'Algorithms are self-contained sequences that carry out a variety of tasks.', 'Amp is a non-blocking concurrency library for PHP.', 'Android is an operating system built by Google designed for mobile devices.', 'Angular is an open source web application platform.', 'Ansible is a simple and powerful automation engine.', 'An API (Application Programming Interface) is a collection of protocols and subroutines for building software.', 'Arduino is an open source platform for building electronic devices.', 'ASP.NET is a web framework for building modern web apps and services.']\n"
     ]
    }
   ],
   "source": [
    "# Iterate through the topic_desc_p_tags list, and append the topic descriptions to a list\n",
    "topic_descriptions = []\n",
    "\n",
    "for tag in topic_desc_p_tags:\n",
    "    topic_descriptions.append(tag.text.strip())\n",
    "\n",
    "print(topic_descriptions[:10])"
   ]
  },
  {
   "cell_type": "code",
   "execution_count": 21,
   "id": "bc3989be",
   "metadata": {},
   "outputs": [
    {
     "name": "stdout",
     "output_type": "stream",
     "text": [
      "['https://github.com/topics/3d', 'https://github.com/topics/ajax', 'https://github.com/topics/algorithm', 'https://github.com/topics/amphp', 'https://github.com/topics/android', 'https://github.com/topics/angular', 'https://github.com/topics/ansible', 'https://github.com/topics/api', 'https://github.com/topics/arduino', 'https://github.com/topics/aspnet']\n"
     ]
    }
   ],
   "source": [
    "# Iterate through the topic_link_tags list, and append the topic links to a list which are concatenated with a base_url\n",
    "topic_urls = []\n",
    "base_url = 'https://github.com'\n",
    "\n",
    "for tag in topic_link_tags:\n",
    "    topic_urls.append(base_url + tag['href'])\n",
    "\n",
    "print(topic_urls[:10])"
   ]
  },
  {
   "cell_type": "code",
   "execution_count": 22,
   "id": "756acbdd",
   "metadata": {},
   "outputs": [],
   "source": [
    "# To create a dataframe and populate it with the lists above, we must first create a dictionary with the lists, and add to a dataframe\n",
    "topics_dict = {\n",
    "    'Topic Titles':topic_titles, \n",
    "    'Topic Descriptions':topic_descriptions, \n",
    "    'Topic URLs':topic_urls}"
   ]
  },
  {
   "cell_type": "code",
   "execution_count": 23,
   "id": "6489694a",
   "metadata": {},
   "outputs": [
    {
     "data": {
      "text/html": [
       "<div>\n",
       "<style scoped>\n",
       "    .dataframe tbody tr th:only-of-type {\n",
       "        vertical-align: middle;\n",
       "    }\n",
       "\n",
       "    .dataframe tbody tr th {\n",
       "        vertical-align: top;\n",
       "    }\n",
       "\n",
       "    .dataframe thead th {\n",
       "        text-align: right;\n",
       "    }\n",
       "</style>\n",
       "<table border=\"1\" class=\"dataframe\">\n",
       "  <thead>\n",
       "    <tr style=\"text-align: right;\">\n",
       "      <th></th>\n",
       "      <th>Topic Titles</th>\n",
       "      <th>Topic Descriptions</th>\n",
       "      <th>Topic URLs</th>\n",
       "    </tr>\n",
       "  </thead>\n",
       "  <tbody>\n",
       "    <tr>\n",
       "      <th>0</th>\n",
       "      <td>3D</td>\n",
       "      <td>3D refers to the use of three-dimensional grap...</td>\n",
       "      <td>https://github.com/topics/3d</td>\n",
       "    </tr>\n",
       "    <tr>\n",
       "      <th>1</th>\n",
       "      <td>Ajax</td>\n",
       "      <td>Ajax is a technique for creating interactive w...</td>\n",
       "      <td>https://github.com/topics/ajax</td>\n",
       "    </tr>\n",
       "    <tr>\n",
       "      <th>2</th>\n",
       "      <td>Algorithm</td>\n",
       "      <td>Algorithms are self-contained sequences that c...</td>\n",
       "      <td>https://github.com/topics/algorithm</td>\n",
       "    </tr>\n",
       "    <tr>\n",
       "      <th>3</th>\n",
       "      <td>Amp</td>\n",
       "      <td>Amp is a non-blocking concurrency library for ...</td>\n",
       "      <td>https://github.com/topics/amphp</td>\n",
       "    </tr>\n",
       "    <tr>\n",
       "      <th>4</th>\n",
       "      <td>Android</td>\n",
       "      <td>Android is an operating system built by Google...</td>\n",
       "      <td>https://github.com/topics/android</td>\n",
       "    </tr>\n",
       "    <tr>\n",
       "      <th>5</th>\n",
       "      <td>Angular</td>\n",
       "      <td>Angular is an open source web application plat...</td>\n",
       "      <td>https://github.com/topics/angular</td>\n",
       "    </tr>\n",
       "    <tr>\n",
       "      <th>6</th>\n",
       "      <td>Ansible</td>\n",
       "      <td>Ansible is a simple and powerful automation en...</td>\n",
       "      <td>https://github.com/topics/ansible</td>\n",
       "    </tr>\n",
       "    <tr>\n",
       "      <th>7</th>\n",
       "      <td>API</td>\n",
       "      <td>An API (Application Programming Interface) is ...</td>\n",
       "      <td>https://github.com/topics/api</td>\n",
       "    </tr>\n",
       "    <tr>\n",
       "      <th>8</th>\n",
       "      <td>Arduino</td>\n",
       "      <td>Arduino is an open source platform for buildin...</td>\n",
       "      <td>https://github.com/topics/arduino</td>\n",
       "    </tr>\n",
       "    <tr>\n",
       "      <th>9</th>\n",
       "      <td>ASP.NET</td>\n",
       "      <td>ASP.NET is a web framework for building modern...</td>\n",
       "      <td>https://github.com/topics/aspnet</td>\n",
       "    </tr>\n",
       "    <tr>\n",
       "      <th>10</th>\n",
       "      <td>Atom</td>\n",
       "      <td>Atom is a open source text editor built with w...</td>\n",
       "      <td>https://github.com/topics/atom</td>\n",
       "    </tr>\n",
       "    <tr>\n",
       "      <th>11</th>\n",
       "      <td>Awesome Lists</td>\n",
       "      <td>An awesome list is a list of awesome things cu...</td>\n",
       "      <td>https://github.com/topics/awesome</td>\n",
       "    </tr>\n",
       "    <tr>\n",
       "      <th>12</th>\n",
       "      <td>Amazon Web Services</td>\n",
       "      <td>Amazon Web Services provides on-demand cloud c...</td>\n",
       "      <td>https://github.com/topics/aws</td>\n",
       "    </tr>\n",
       "    <tr>\n",
       "      <th>13</th>\n",
       "      <td>Azure</td>\n",
       "      <td>Azure is a cloud computing service created by ...</td>\n",
       "      <td>https://github.com/topics/azure</td>\n",
       "    </tr>\n",
       "    <tr>\n",
       "      <th>14</th>\n",
       "      <td>Babel</td>\n",
       "      <td>Babel is a compiler for writing next generatio...</td>\n",
       "      <td>https://github.com/topics/babel</td>\n",
       "    </tr>\n",
       "    <tr>\n",
       "      <th>15</th>\n",
       "      <td>Bash</td>\n",
       "      <td>Bash is a shell and command language interpret...</td>\n",
       "      <td>https://github.com/topics/bash</td>\n",
       "    </tr>\n",
       "    <tr>\n",
       "      <th>16</th>\n",
       "      <td>Bitcoin</td>\n",
       "      <td>Bitcoin is a cryptocurrency developed by Satos...</td>\n",
       "      <td>https://github.com/topics/bitcoin</td>\n",
       "    </tr>\n",
       "    <tr>\n",
       "      <th>17</th>\n",
       "      <td>Bootstrap</td>\n",
       "      <td>Bootstrap is an HTML, CSS, and JavaScript fram...</td>\n",
       "      <td>https://github.com/topics/bootstrap</td>\n",
       "    </tr>\n",
       "    <tr>\n",
       "      <th>18</th>\n",
       "      <td>Bot</td>\n",
       "      <td>A bot is an application that runs automated ta...</td>\n",
       "      <td>https://github.com/topics/bot</td>\n",
       "    </tr>\n",
       "    <tr>\n",
       "      <th>19</th>\n",
       "      <td>C</td>\n",
       "      <td>C is a general purpose programming language th...</td>\n",
       "      <td>https://github.com/topics/c</td>\n",
       "    </tr>\n",
       "    <tr>\n",
       "      <th>20</th>\n",
       "      <td>Chrome</td>\n",
       "      <td>Chrome is a web browser from the tech company ...</td>\n",
       "      <td>https://github.com/topics/chrome</td>\n",
       "    </tr>\n",
       "    <tr>\n",
       "      <th>21</th>\n",
       "      <td>Chrome extension</td>\n",
       "      <td>Chrome extensions enable users to customize th...</td>\n",
       "      <td>https://github.com/topics/chrome-extension</td>\n",
       "    </tr>\n",
       "    <tr>\n",
       "      <th>22</th>\n",
       "      <td>Command line interface</td>\n",
       "      <td>A CLI, or command-line interface, is a console...</td>\n",
       "      <td>https://github.com/topics/cli</td>\n",
       "    </tr>\n",
       "    <tr>\n",
       "      <th>23</th>\n",
       "      <td>Clojure</td>\n",
       "      <td>Clojure is a dynamic, general-purpose programm...</td>\n",
       "      <td>https://github.com/topics/clojure</td>\n",
       "    </tr>\n",
       "    <tr>\n",
       "      <th>24</th>\n",
       "      <td>Code quality</td>\n",
       "      <td>Automate your code review with style, quality,...</td>\n",
       "      <td>https://github.com/topics/code-quality</td>\n",
       "    </tr>\n",
       "    <tr>\n",
       "      <th>25</th>\n",
       "      <td>Code review</td>\n",
       "      <td>Ensure your code meets quality standards and s...</td>\n",
       "      <td>https://github.com/topics/code-review</td>\n",
       "    </tr>\n",
       "    <tr>\n",
       "      <th>26</th>\n",
       "      <td>Compiler</td>\n",
       "      <td>Compilers are software that translate higher-l...</td>\n",
       "      <td>https://github.com/topics/compiler</td>\n",
       "    </tr>\n",
       "    <tr>\n",
       "      <th>27</th>\n",
       "      <td>Continuous integration</td>\n",
       "      <td>Automatically build and test your code as you ...</td>\n",
       "      <td>https://github.com/topics/continuous-integration</td>\n",
       "    </tr>\n",
       "    <tr>\n",
       "      <th>28</th>\n",
       "      <td>COVID-19</td>\n",
       "      <td>The coronavirus disease 2019 (COVID-19) is an ...</td>\n",
       "      <td>https://github.com/topics/covid-19</td>\n",
       "    </tr>\n",
       "    <tr>\n",
       "      <th>29</th>\n",
       "      <td>C++</td>\n",
       "      <td>C++ is a general purpose and object-oriented p...</td>\n",
       "      <td>https://github.com/topics/cpp</td>\n",
       "    </tr>\n",
       "  </tbody>\n",
       "</table>\n",
       "</div>"
      ],
      "text/plain": [
       "              Topic Titles                                 Topic Descriptions  \\\n",
       "0                       3D  3D refers to the use of three-dimensional grap...   \n",
       "1                     Ajax  Ajax is a technique for creating interactive w...   \n",
       "2                Algorithm  Algorithms are self-contained sequences that c...   \n",
       "3                      Amp  Amp is a non-blocking concurrency library for ...   \n",
       "4                  Android  Android is an operating system built by Google...   \n",
       "5                  Angular  Angular is an open source web application plat...   \n",
       "6                  Ansible  Ansible is a simple and powerful automation en...   \n",
       "7                      API  An API (Application Programming Interface) is ...   \n",
       "8                  Arduino  Arduino is an open source platform for buildin...   \n",
       "9                  ASP.NET  ASP.NET is a web framework for building modern...   \n",
       "10                    Atom  Atom is a open source text editor built with w...   \n",
       "11           Awesome Lists  An awesome list is a list of awesome things cu...   \n",
       "12     Amazon Web Services  Amazon Web Services provides on-demand cloud c...   \n",
       "13                   Azure  Azure is a cloud computing service created by ...   \n",
       "14                   Babel  Babel is a compiler for writing next generatio...   \n",
       "15                    Bash  Bash is a shell and command language interpret...   \n",
       "16                 Bitcoin  Bitcoin is a cryptocurrency developed by Satos...   \n",
       "17               Bootstrap  Bootstrap is an HTML, CSS, and JavaScript fram...   \n",
       "18                     Bot  A bot is an application that runs automated ta...   \n",
       "19                       C  C is a general purpose programming language th...   \n",
       "20                  Chrome  Chrome is a web browser from the tech company ...   \n",
       "21        Chrome extension  Chrome extensions enable users to customize th...   \n",
       "22  Command line interface  A CLI, or command-line interface, is a console...   \n",
       "23                 Clojure  Clojure is a dynamic, general-purpose programm...   \n",
       "24            Code quality  Automate your code review with style, quality,...   \n",
       "25             Code review  Ensure your code meets quality standards and s...   \n",
       "26                Compiler  Compilers are software that translate higher-l...   \n",
       "27  Continuous integration  Automatically build and test your code as you ...   \n",
       "28                COVID-19  The coronavirus disease 2019 (COVID-19) is an ...   \n",
       "29                     C++  C++ is a general purpose and object-oriented p...   \n",
       "\n",
       "                                          Topic URLs  \n",
       "0                       https://github.com/topics/3d  \n",
       "1                     https://github.com/topics/ajax  \n",
       "2                https://github.com/topics/algorithm  \n",
       "3                    https://github.com/topics/amphp  \n",
       "4                  https://github.com/topics/android  \n",
       "5                  https://github.com/topics/angular  \n",
       "6                  https://github.com/topics/ansible  \n",
       "7                      https://github.com/topics/api  \n",
       "8                  https://github.com/topics/arduino  \n",
       "9                   https://github.com/topics/aspnet  \n",
       "10                    https://github.com/topics/atom  \n",
       "11                 https://github.com/topics/awesome  \n",
       "12                     https://github.com/topics/aws  \n",
       "13                   https://github.com/topics/azure  \n",
       "14                   https://github.com/topics/babel  \n",
       "15                    https://github.com/topics/bash  \n",
       "16                 https://github.com/topics/bitcoin  \n",
       "17               https://github.com/topics/bootstrap  \n",
       "18                     https://github.com/topics/bot  \n",
       "19                       https://github.com/topics/c  \n",
       "20                  https://github.com/topics/chrome  \n",
       "21        https://github.com/topics/chrome-extension  \n",
       "22                     https://github.com/topics/cli  \n",
       "23                 https://github.com/topics/clojure  \n",
       "24            https://github.com/topics/code-quality  \n",
       "25             https://github.com/topics/code-review  \n",
       "26                https://github.com/topics/compiler  \n",
       "27  https://github.com/topics/continuous-integration  \n",
       "28                https://github.com/topics/covid-19  \n",
       "29                     https://github.com/topics/cpp  "
      ]
     },
     "execution_count": 23,
     "metadata": {},
     "output_type": "execute_result"
    }
   ],
   "source": [
    "# Create and populate the data frame with the above dictionary\n",
    "import pandas as pd\n",
    "topics_df = pd.DataFrame(topics_dict)\n",
    "topics_df"
   ]
  },
  {
   "cell_type": "markdown",
   "id": "5f31c1fd",
   "metadata": {},
   "source": [
    "### Create CSV file(s) with the extracted information\n",
    "\n",
    "To Do:\n",
    "- Create functions for the end-to-end process of downloading, parsing, and saving CSVs.\n",
    "- Execute the function with different inputs to create a dataset of CSV files.\n",
    "- Verify the information in the CSV files by reading them back using Pandas.\n"
   ]
  },
  {
   "cell_type": "code",
   "execution_count": 24,
   "id": "547cd0f1",
   "metadata": {},
   "outputs": [],
   "source": [
    "topics_df.to_csv('topics.csv', index=None)"
   ]
  },
  {
   "cell_type": "markdown",
   "id": "e3570338",
   "metadata": {},
   "source": [
    "## [Individual Topic Page] Get Information from a specific topic's page\n",
    "- Repeat the same scraping process as the one used to scrape the topics webpage, except it's to be implemented on a specific topic's webpage now\n",
    "- The section below creates and formats the new BeautifulSoup object to hold the parsed html contents of a specific topic's page"
   ]
  },
  {
   "cell_type": "code",
   "execution_count": 25,
   "id": "b76c5f37",
   "metadata": {},
   "outputs": [],
   "source": [
    "topic_page_url = topic_urls[0]"
   ]
  },
  {
   "cell_type": "code",
   "execution_count": 26,
   "id": "2a146675",
   "metadata": {},
   "outputs": [
    {
     "name": "stdout",
     "output_type": "stream",
     "text": [
      "https://github.com/topics/3d\n"
     ]
    }
   ],
   "source": [
    "print(topic_page_url)"
   ]
  },
  {
   "cell_type": "code",
   "execution_count": 27,
   "id": "7cdc81a7",
   "metadata": {},
   "outputs": [],
   "source": [
    "response_page = requests.get(topic_page_url)"
   ]
  },
  {
   "cell_type": "code",
   "execution_count": 28,
   "id": "72c324b4",
   "metadata": {},
   "outputs": [
    {
     "data": {
      "text/plain": [
       "200"
      ]
     },
     "execution_count": 28,
     "metadata": {},
     "output_type": "execute_result"
    }
   ],
   "source": [
    "response_page.status_code"
   ]
  },
  {
   "cell_type": "code",
   "execution_count": 29,
   "id": "3196866f",
   "metadata": {},
   "outputs": [
    {
     "data": {
      "text/plain": [
       "477227"
      ]
     },
     "execution_count": 29,
     "metadata": {},
     "output_type": "execute_result"
    }
   ],
   "source": [
    "len(response_page.text)"
   ]
  },
  {
   "cell_type": "code",
   "execution_count": 30,
   "id": "51dc7349",
   "metadata": {},
   "outputs": [],
   "source": [
    "# Create a new BeautifulSoup object with the parsed html contents from response_page\n",
    "topic_doc = BeautifulSoup(response_page.text,\"html.parser\")\n"
   ]
  },
  {
   "cell_type": "code",
   "execution_count": 31,
   "id": "3dd4f815",
   "metadata": {},
   "outputs": [
    {
     "data": {
      "text/plain": [
       "20"
      ]
     },
     "execution_count": 31,
     "metadata": {},
     "output_type": "execute_result"
    }
   ],
   "source": [
    "# To isolate a repository, since the individual repo name and repo owner don't have classes associated, find by the 'h3' tags\n",
    "# that the name and owner 'a' tags are nested in\n",
    "\n",
    "# 20 repo_tags represent the 20 displayed repositories on a single topic's page\n",
    "repo_tags = topic_doc.find_all('h3', {'class':'f3 color-fg-muted text-normal lh-condensed'})\n",
    "len(repo_tags)"
   ]
  },
  {
   "cell_type": "code",
   "execution_count": 32,
   "id": "174ed195",
   "metadata": {},
   "outputs": [
    {
     "name": "stdout",
     "output_type": "stream",
     "text": [
      "First 'a' tag: mrdoob\n",
      "Second 'a' tag: three.js\n"
     ]
    }
   ],
   "source": [
    "# Next, you can further isolate the repo name and owner by finding all of the 'a' tags nested in a single 'h3' tag\n",
    "# A single 'h3' tag should have 2 'a' tags. To get the href and text in the 'a' tag (i.e repo name and owner) we can\n",
    "# iterate through the 'a' tags like a list. I.e, first a_tag is repo owner, second a_tag is repo name\n",
    "\n",
    "a_tags = repo_tags[0].find_all('a')\n",
    "print(\"First 'a' tag: \" + a_tags[0].text.strip())\n",
    "print(\"Second 'a' tag: \" + a_tags[1].text.strip())"
   ]
  },
  {
   "cell_type": "markdown",
   "id": "e8ce8db6",
   "metadata": {},
   "source": [
    "#### Add information to a dictionary to add to a data frame\n",
    "There are two ways to do this. I have demonstrated both:\n",
    "1. Define empty lists for each category of information. Use two for loops to extract and append the information to these empty lists. Once done, these lists can be converted to a dictionary, which can be appended to a new data frame\n",
    "2. Define an empty dictionary, and use helper functions to extract the required information from one instance of a repository. Use these functions in a single for loop to append to the dictionary, which can be appended to a new data frame"
   ]
  },
  {
   "cell_type": "code",
   "execution_count": 33,
   "id": "dad0eddd",
   "metadata": {},
   "outputs": [
    {
     "name": "stdout",
     "output_type": "stream",
     "text": [
      "['mrdoob', 'pmndrs', 'libgdx', 'BabylonJS', 'ssloy']\n",
      "['three.js', 'react-three-fiber', 'libgdx', 'Babylon.js', 'tinyrenderer']\n",
      "['https://github.com/mrdoob/three.js', 'https://github.com/pmndrs/react-three-fiber', 'https://github.com/libgdx/libgdx', 'https://github.com/BabylonJS/Babylon.js', 'https://github.com/ssloy/tinyrenderer']\n",
      "['94.2k', '23.6k', '21.9k', '21.3k', '17.7k']\n"
     ]
    }
   ],
   "source": [
    "# METHOD 1: FOR LOOPS --------------------------------------------------------------------------------------------------------\n",
    "\n",
    "# With the above format in mind, create a list for each piece of required info (repo name, repo owner, repo url)\n",
    "# Use a for loop to iterate through the 'h3' repo_tags, extract and append the required information to the appropriate list\n",
    "\n",
    "repo_names = []\n",
    "repo_owners = []\n",
    "repo_urls = []\n",
    "\n",
    "# Create a temporary list to store the 'span' tags for the repo stars, then use .text.strip() to populate the final list for repo_stars\n",
    "repo_stars_temp = []\n",
    "repo_stars = []\n",
    "\n",
    "base_url = 'https://github.com'\n",
    "\n",
    "repo_stars_temp = topic_doc.find_all('span', {'id':'repo-stars-counter-star'})\n",
    "\n",
    "for tag in repo_tags:\n",
    "    all_a_tags = tag.find_all('a')\n",
    "    repo_owners.append(all_a_tags[0].text.strip())\n",
    "    repo_names.append(all_a_tags[1].text.strip())\n",
    "    repo_urls.append(base_url + all_a_tags[1]['href'])\n",
    "    \n",
    "\n",
    "for star_tag in repo_stars_temp:\n",
    "    repo_stars.append(star_tag.text.strip())\n",
    "    \n",
    "print(repo_owners[:5])\n",
    "print(repo_names[:5])\n",
    "print(repo_urls[:5])\n",
    "print(repo_stars[:5])"
   ]
  },
  {
   "cell_type": "code",
   "execution_count": 34,
   "id": "9097238d",
   "metadata": {},
   "outputs": [],
   "source": [
    "# METHOD 2: HELPER FUNCTIONS -------------------------------------------------------------------------------------------------\n",
    "\n",
    "# Returns the star count as an int\n",
    "def parse_star_count(stars_str):\n",
    "    stars_str = stars_str.strip()\n",
    "    if stars_str[-1] == 'k':\n",
    "        return int(float(stars_str[:-1]) * 1000)\n",
    "    return int(stars_str)\n",
    "\n",
    "\n",
    "# Returns all of the required info about a repository\n",
    "def get_repo_info(h3_tag, star_tag):\n",
    "    base_url = 'https://github.com'\n",
    "    a_tags = h3_tag.find_all('a')\n",
    "    repo_owner = a_tags[0].text.strip()\n",
    "    repo_name = a_tags[1].text.strip()\n",
    "    repo_url = base_url + a_tags[1]['href']\n",
    "    stars = parse_star_count(star_tag.text.strip())\n",
    "    return repo_owner, repo_name, repo_url, stars"
   ]
  },
  {
   "cell_type": "code",
   "execution_count": 35,
   "id": "f85326d2",
   "metadata": {},
   "outputs": [
    {
     "data": {
      "text/plain": [
       "('mrdoob', 'three.js', 'https://github.com/mrdoob/three.js', 94200)"
      ]
     },
     "execution_count": 35,
     "metadata": {},
     "output_type": "execute_result"
    }
   ],
   "source": [
    "get_repo_info (repo_tags[0], repo_stars_temp[0])"
   ]
  },
  {
   "cell_type": "code",
   "execution_count": 36,
   "id": "df9a602c",
   "metadata": {},
   "outputs": [
    {
     "name": "stdout",
     "output_type": "stream",
     "text": [
      "{'Repository Owner': ['mrdoob', 'pmndrs', 'libgdx', 'BabylonJS', 'ssloy', 'lettier', 'aframevr', 'FreeCAD', 'CesiumGS', 'metafizzy', 'isl-org', 'blender', 'timzhang642', 'a1studmuffin', 'domlysz', 'FyroxEngine', 'nerfstudio-project', 'google', 'openscad', 'spritejs'], 'Repository Name': ['three.js', 'react-three-fiber', 'libgdx', 'Babylon.js', 'tinyrenderer', '3d-game-shaders-for-beginners', 'aframe', 'FreeCAD', 'cesium', 'zdog', 'Open3D', 'blender', '3D-Machine-Learning', 'SpaceshipGenerator', 'BlenderGIS', 'Fyrox', 'nerfstudio', 'model-viewer', 'openscad', 'spritejs'], 'Repository Star Count': [94200, 23600, 21900, 21300, 17700, 16000, 15600, 15000, 10900, 10000, 9400, 9300, 9100, 7400, 6600, 6500, 6400, 5900, 5800, 5200], 'Repository URL': ['https://github.com/mrdoob/three.js', 'https://github.com/pmndrs/react-three-fiber', 'https://github.com/libgdx/libgdx', 'https://github.com/BabylonJS/Babylon.js', 'https://github.com/ssloy/tinyrenderer', 'https://github.com/lettier/3d-game-shaders-for-beginners', 'https://github.com/aframevr/aframe', 'https://github.com/FreeCAD/FreeCAD', 'https://github.com/CesiumGS/cesium', 'https://github.com/metafizzy/zdog', 'https://github.com/isl-org/Open3D', 'https://github.com/blender/blender', 'https://github.com/timzhang642/3D-Machine-Learning', 'https://github.com/a1studmuffin/SpaceshipGenerator', 'https://github.com/domlysz/BlenderGIS', 'https://github.com/FyroxEngine/Fyrox', 'https://github.com/nerfstudio-project/nerfstudio', 'https://github.com/google/model-viewer', 'https://github.com/openscad/openscad', 'https://github.com/spritejs/spritejs']}\n"
     ]
    }
   ],
   "source": [
    "# METHOD 2 CONTD ------------------------------------------------------------------------------------------------------------\n",
    "\n",
    "topic_repo_dict = {\n",
    "    'Repository Owner': [],\n",
    "    'Repository Name': [],\n",
    "    'Repository Star Count':[],\n",
    "    'Repository URL': []\n",
    "}\n",
    "\n",
    "for i in range(len(repo_tags)):\n",
    "    repo_info = get_repo_info(repo_tags[i], repo_stars_temp[i])\n",
    "    topic_repo_dict['Repository Owner'].append(repo_info[0])\n",
    "    topic_repo_dict['Repository Name'].append(repo_info[1])\n",
    "    topic_repo_dict['Repository Star Count'].append(repo_info[3])\n",
    "    topic_repo_dict['Repository URL'].append(repo_info[2])\n",
    "    \n",
    "print(topic_repo_dict)"
   ]
  },
  {
   "cell_type": "code",
   "execution_count": 37,
   "id": "806e1d0d",
   "metadata": {},
   "outputs": [
    {
     "data": {
      "text/html": [
       "<div>\n",
       "<style scoped>\n",
       "    .dataframe tbody tr th:only-of-type {\n",
       "        vertical-align: middle;\n",
       "    }\n",
       "\n",
       "    .dataframe tbody tr th {\n",
       "        vertical-align: top;\n",
       "    }\n",
       "\n",
       "    .dataframe thead th {\n",
       "        text-align: right;\n",
       "    }\n",
       "</style>\n",
       "<table border=\"1\" class=\"dataframe\">\n",
       "  <thead>\n",
       "    <tr style=\"text-align: right;\">\n",
       "      <th></th>\n",
       "      <th>Repository Owner</th>\n",
       "      <th>Repository Name</th>\n",
       "      <th>Repository Star Count</th>\n",
       "      <th>Repository URL</th>\n",
       "    </tr>\n",
       "  </thead>\n",
       "  <tbody>\n",
       "    <tr>\n",
       "      <th>0</th>\n",
       "      <td>mrdoob</td>\n",
       "      <td>three.js</td>\n",
       "      <td>94200</td>\n",
       "      <td>https://github.com/mrdoob/three.js</td>\n",
       "    </tr>\n",
       "    <tr>\n",
       "      <th>1</th>\n",
       "      <td>pmndrs</td>\n",
       "      <td>react-three-fiber</td>\n",
       "      <td>23600</td>\n",
       "      <td>https://github.com/pmndrs/react-three-fiber</td>\n",
       "    </tr>\n",
       "    <tr>\n",
       "      <th>2</th>\n",
       "      <td>libgdx</td>\n",
       "      <td>libgdx</td>\n",
       "      <td>21900</td>\n",
       "      <td>https://github.com/libgdx/libgdx</td>\n",
       "    </tr>\n",
       "    <tr>\n",
       "      <th>3</th>\n",
       "      <td>BabylonJS</td>\n",
       "      <td>Babylon.js</td>\n",
       "      <td>21300</td>\n",
       "      <td>https://github.com/BabylonJS/Babylon.js</td>\n",
       "    </tr>\n",
       "    <tr>\n",
       "      <th>4</th>\n",
       "      <td>ssloy</td>\n",
       "      <td>tinyrenderer</td>\n",
       "      <td>17700</td>\n",
       "      <td>https://github.com/ssloy/tinyrenderer</td>\n",
       "    </tr>\n",
       "    <tr>\n",
       "      <th>5</th>\n",
       "      <td>lettier</td>\n",
       "      <td>3d-game-shaders-for-beginners</td>\n",
       "      <td>16000</td>\n",
       "      <td>https://github.com/lettier/3d-game-shaders-for...</td>\n",
       "    </tr>\n",
       "    <tr>\n",
       "      <th>6</th>\n",
       "      <td>aframevr</td>\n",
       "      <td>aframe</td>\n",
       "      <td>15600</td>\n",
       "      <td>https://github.com/aframevr/aframe</td>\n",
       "    </tr>\n",
       "    <tr>\n",
       "      <th>7</th>\n",
       "      <td>FreeCAD</td>\n",
       "      <td>FreeCAD</td>\n",
       "      <td>15000</td>\n",
       "      <td>https://github.com/FreeCAD/FreeCAD</td>\n",
       "    </tr>\n",
       "    <tr>\n",
       "      <th>8</th>\n",
       "      <td>CesiumGS</td>\n",
       "      <td>cesium</td>\n",
       "      <td>10900</td>\n",
       "      <td>https://github.com/CesiumGS/cesium</td>\n",
       "    </tr>\n",
       "    <tr>\n",
       "      <th>9</th>\n",
       "      <td>metafizzy</td>\n",
       "      <td>zdog</td>\n",
       "      <td>10000</td>\n",
       "      <td>https://github.com/metafizzy/zdog</td>\n",
       "    </tr>\n",
       "    <tr>\n",
       "      <th>10</th>\n",
       "      <td>isl-org</td>\n",
       "      <td>Open3D</td>\n",
       "      <td>9400</td>\n",
       "      <td>https://github.com/isl-org/Open3D</td>\n",
       "    </tr>\n",
       "    <tr>\n",
       "      <th>11</th>\n",
       "      <td>blender</td>\n",
       "      <td>blender</td>\n",
       "      <td>9300</td>\n",
       "      <td>https://github.com/blender/blender</td>\n",
       "    </tr>\n",
       "    <tr>\n",
       "      <th>12</th>\n",
       "      <td>timzhang642</td>\n",
       "      <td>3D-Machine-Learning</td>\n",
       "      <td>9100</td>\n",
       "      <td>https://github.com/timzhang642/3D-Machine-Lear...</td>\n",
       "    </tr>\n",
       "    <tr>\n",
       "      <th>13</th>\n",
       "      <td>a1studmuffin</td>\n",
       "      <td>SpaceshipGenerator</td>\n",
       "      <td>7400</td>\n",
       "      <td>https://github.com/a1studmuffin/SpaceshipGener...</td>\n",
       "    </tr>\n",
       "    <tr>\n",
       "      <th>14</th>\n",
       "      <td>domlysz</td>\n",
       "      <td>BlenderGIS</td>\n",
       "      <td>6600</td>\n",
       "      <td>https://github.com/domlysz/BlenderGIS</td>\n",
       "    </tr>\n",
       "    <tr>\n",
       "      <th>15</th>\n",
       "      <td>FyroxEngine</td>\n",
       "      <td>Fyrox</td>\n",
       "      <td>6500</td>\n",
       "      <td>https://github.com/FyroxEngine/Fyrox</td>\n",
       "    </tr>\n",
       "    <tr>\n",
       "      <th>16</th>\n",
       "      <td>nerfstudio-project</td>\n",
       "      <td>nerfstudio</td>\n",
       "      <td>6400</td>\n",
       "      <td>https://github.com/nerfstudio-project/nerfstudio</td>\n",
       "    </tr>\n",
       "    <tr>\n",
       "      <th>17</th>\n",
       "      <td>google</td>\n",
       "      <td>model-viewer</td>\n",
       "      <td>5900</td>\n",
       "      <td>https://github.com/google/model-viewer</td>\n",
       "    </tr>\n",
       "    <tr>\n",
       "      <th>18</th>\n",
       "      <td>openscad</td>\n",
       "      <td>openscad</td>\n",
       "      <td>5800</td>\n",
       "      <td>https://github.com/openscad/openscad</td>\n",
       "    </tr>\n",
       "    <tr>\n",
       "      <th>19</th>\n",
       "      <td>spritejs</td>\n",
       "      <td>spritejs</td>\n",
       "      <td>5200</td>\n",
       "      <td>https://github.com/spritejs/spritejs</td>\n",
       "    </tr>\n",
       "  </tbody>\n",
       "</table>\n",
       "</div>"
      ],
      "text/plain": [
       "      Repository Owner                Repository Name  Repository Star Count  \\\n",
       "0               mrdoob                       three.js                  94200   \n",
       "1               pmndrs              react-three-fiber                  23600   \n",
       "2               libgdx                         libgdx                  21900   \n",
       "3            BabylonJS                     Babylon.js                  21300   \n",
       "4                ssloy                   tinyrenderer                  17700   \n",
       "5              lettier  3d-game-shaders-for-beginners                  16000   \n",
       "6             aframevr                         aframe                  15600   \n",
       "7              FreeCAD                        FreeCAD                  15000   \n",
       "8             CesiumGS                         cesium                  10900   \n",
       "9            metafizzy                           zdog                  10000   \n",
       "10             isl-org                         Open3D                   9400   \n",
       "11             blender                        blender                   9300   \n",
       "12         timzhang642            3D-Machine-Learning                   9100   \n",
       "13        a1studmuffin             SpaceshipGenerator                   7400   \n",
       "14             domlysz                     BlenderGIS                   6600   \n",
       "15         FyroxEngine                          Fyrox                   6500   \n",
       "16  nerfstudio-project                     nerfstudio                   6400   \n",
       "17              google                   model-viewer                   5900   \n",
       "18            openscad                       openscad                   5800   \n",
       "19            spritejs                       spritejs                   5200   \n",
       "\n",
       "                                       Repository URL  \n",
       "0                  https://github.com/mrdoob/three.js  \n",
       "1         https://github.com/pmndrs/react-three-fiber  \n",
       "2                    https://github.com/libgdx/libgdx  \n",
       "3             https://github.com/BabylonJS/Babylon.js  \n",
       "4               https://github.com/ssloy/tinyrenderer  \n",
       "5   https://github.com/lettier/3d-game-shaders-for...  \n",
       "6                  https://github.com/aframevr/aframe  \n",
       "7                  https://github.com/FreeCAD/FreeCAD  \n",
       "8                  https://github.com/CesiumGS/cesium  \n",
       "9                   https://github.com/metafizzy/zdog  \n",
       "10                  https://github.com/isl-org/Open3D  \n",
       "11                 https://github.com/blender/blender  \n",
       "12  https://github.com/timzhang642/3D-Machine-Lear...  \n",
       "13  https://github.com/a1studmuffin/SpaceshipGener...  \n",
       "14              https://github.com/domlysz/BlenderGIS  \n",
       "15               https://github.com/FyroxEngine/Fyrox  \n",
       "16   https://github.com/nerfstudio-project/nerfstudio  \n",
       "17             https://github.com/google/model-viewer  \n",
       "18               https://github.com/openscad/openscad  \n",
       "19               https://github.com/spritejs/spritejs  "
      ]
     },
     "execution_count": 37,
     "metadata": {},
     "output_type": "execute_result"
    }
   ],
   "source": [
    "# Add to a new dataframe\n",
    "\n",
    "repo_df = pd.DataFrame(topic_repo_dict)\n",
    "repo_df"
   ]
  },
  {
   "cell_type": "code",
   "execution_count": 38,
   "id": "a773752f",
   "metadata": {},
   "outputs": [],
   "source": [
    "# The following two functions work to return a dataframe consisting of the top 20 repositories in a given topic url\n",
    "\n",
    "def get_topic_page(topic_url):\n",
    "    response_web = requests.get(topic_url)\n",
    "    if response_web.status_code!= 200:\n",
    "        raise Exception('Failed to load pag{}'.format(topic_url))\n",
    "    topic_doc = BeautifulSoup(response_web.text,\"html.parser\") \n",
    "    return topic_doc\n",
    "    \n",
    "\n",
    "def get_topic_repos(topic_doc):\n",
    "    page_tags = topic_doc.find_all('h3', {'class':'f3 color-fg-muted text-normal lh-condensed'})\n",
    "    repo_stars = topic_doc.find_all('span', {'id':'repo-stars-counter-star'})\n",
    "    \n",
    "    topic_repo_dict = {\n",
    "    'Repository Owner': [],\n",
    "    'Repository Name': [],\n",
    "    'Repository Star Count':[],\n",
    "    'Repository URL': []\n",
    "    }\n",
    "\n",
    "    for i in range(len(page_tags)):\n",
    "        repo_info = get_repo_info(page_tags[i], repo_stars[i])\n",
    "        topic_repo_dict['Repository Owner'].append(repo_info[0])\n",
    "        topic_repo_dict['Repository Name'].append(repo_info[1])\n",
    "        topic_repo_dict['Repository Star Count'].append(repo_info[3])\n",
    "        topic_repo_dict['Repository URL'].append(repo_info[2])\n",
    "        \n",
    "    new_df = pd.DataFrame(topic_repo_dict)\n",
    "    return new_df"
   ]
  },
  {
   "cell_type": "code",
   "execution_count": 39,
   "id": "305ca840",
   "metadata": {},
   "outputs": [
    {
     "data": {
      "text/html": [
       "<div>\n",
       "<style scoped>\n",
       "    .dataframe tbody tr th:only-of-type {\n",
       "        vertical-align: middle;\n",
       "    }\n",
       "\n",
       "    .dataframe tbody tr th {\n",
       "        vertical-align: top;\n",
       "    }\n",
       "\n",
       "    .dataframe thead th {\n",
       "        text-align: right;\n",
       "    }\n",
       "</style>\n",
       "<table border=\"1\" class=\"dataframe\">\n",
       "  <thead>\n",
       "    <tr style=\"text-align: right;\">\n",
       "      <th></th>\n",
       "      <th>Repository Owner</th>\n",
       "      <th>Repository Name</th>\n",
       "      <th>Repository Star Count</th>\n",
       "      <th>Repository URL</th>\n",
       "    </tr>\n",
       "  </thead>\n",
       "  <tbody>\n",
       "    <tr>\n",
       "      <th>0</th>\n",
       "      <td>jwasham</td>\n",
       "      <td>coding-interview-university</td>\n",
       "      <td>264000</td>\n",
       "      <td>https://github.com/jwasham/coding-interview-un...</td>\n",
       "    </tr>\n",
       "    <tr>\n",
       "      <th>1</th>\n",
       "      <td>trekhleb</td>\n",
       "      <td>javascript-algorithms</td>\n",
       "      <td>175000</td>\n",
       "      <td>https://github.com/trekhleb/javascript-algorithms</td>\n",
       "    </tr>\n",
       "    <tr>\n",
       "      <th>2</th>\n",
       "      <td>TheAlgorithms</td>\n",
       "      <td>Python</td>\n",
       "      <td>168000</td>\n",
       "      <td>https://github.com/TheAlgorithms/Python</td>\n",
       "    </tr>\n",
       "    <tr>\n",
       "      <th>3</th>\n",
       "      <td>CyC2018</td>\n",
       "      <td>CS-Notes</td>\n",
       "      <td>167000</td>\n",
       "      <td>https://github.com/CyC2018/CS-Notes</td>\n",
       "    </tr>\n",
       "    <tr>\n",
       "      <th>4</th>\n",
       "      <td>yangshun</td>\n",
       "      <td>tech-interview-handbook</td>\n",
       "      <td>94400</td>\n",
       "      <td>https://github.com/yangshun/tech-interview-han...</td>\n",
       "    </tr>\n",
       "    <tr>\n",
       "      <th>5</th>\n",
       "      <td>kdn251</td>\n",
       "      <td>interviews</td>\n",
       "      <td>60300</td>\n",
       "      <td>https://github.com/kdn251/interviews</td>\n",
       "    </tr>\n",
       "    <tr>\n",
       "      <th>6</th>\n",
       "      <td>TheAlgorithms</td>\n",
       "      <td>Java</td>\n",
       "      <td>53400</td>\n",
       "      <td>https://github.com/TheAlgorithms/Java</td>\n",
       "    </tr>\n",
       "    <tr>\n",
       "      <th>7</th>\n",
       "      <td>azl397985856</td>\n",
       "      <td>leetcode</td>\n",
       "      <td>52300</td>\n",
       "      <td>https://github.com/azl397985856/leetcode</td>\n",
       "    </tr>\n",
       "    <tr>\n",
       "      <th>8</th>\n",
       "      <td>algorithm-visualizer</td>\n",
       "      <td>algorithm-visualizer</td>\n",
       "      <td>44200</td>\n",
       "      <td>https://github.com/algorithm-visualizer/algori...</td>\n",
       "    </tr>\n",
       "    <tr>\n",
       "      <th>9</th>\n",
       "      <td>youngyangyang04</td>\n",
       "      <td>leetcode-master</td>\n",
       "      <td>41600</td>\n",
       "      <td>https://github.com/youngyangyang04/leetcode-ma...</td>\n",
       "    </tr>\n",
       "    <tr>\n",
       "      <th>10</th>\n",
       "      <td>halfrost</td>\n",
       "      <td>LeetCode-Go</td>\n",
       "      <td>30400</td>\n",
       "      <td>https://github.com/halfrost/LeetCode-Go</td>\n",
       "    </tr>\n",
       "    <tr>\n",
       "      <th>11</th>\n",
       "      <td>huihut</td>\n",
       "      <td>interview</td>\n",
       "      <td>30200</td>\n",
       "      <td>https://github.com/huihut/interview</td>\n",
       "    </tr>\n",
       "    <tr>\n",
       "      <th>12</th>\n",
       "      <td>donnemartin</td>\n",
       "      <td>interactive-coding-challenges</td>\n",
       "      <td>27800</td>\n",
       "      <td>https://github.com/donnemartin/interactive-cod...</td>\n",
       "    </tr>\n",
       "    <tr>\n",
       "      <th>13</th>\n",
       "      <td>TheAlgorithms</td>\n",
       "      <td>JavaScript</td>\n",
       "      <td>27600</td>\n",
       "      <td>https://github.com/TheAlgorithms/JavaScript</td>\n",
       "    </tr>\n",
       "    <tr>\n",
       "      <th>14</th>\n",
       "      <td>crossoverJie</td>\n",
       "      <td>JCSprout</td>\n",
       "      <td>27000</td>\n",
       "      <td>https://github.com/crossoverJie/JCSprout</td>\n",
       "    </tr>\n",
       "    <tr>\n",
       "      <th>15</th>\n",
       "      <td>TheAlgorithms</td>\n",
       "      <td>C-Plus-Plus</td>\n",
       "      <td>25500</td>\n",
       "      <td>https://github.com/TheAlgorithms/C-Plus-Plus</td>\n",
       "    </tr>\n",
       "    <tr>\n",
       "      <th>16</th>\n",
       "      <td>keon</td>\n",
       "      <td>algorithms</td>\n",
       "      <td>22900</td>\n",
       "      <td>https://github.com/keon/algorithms</td>\n",
       "    </tr>\n",
       "    <tr>\n",
       "      <th>17</th>\n",
       "      <td>mxgmn</td>\n",
       "      <td>WaveFunctionCollapse</td>\n",
       "      <td>21700</td>\n",
       "      <td>https://github.com/mxgmn/WaveFunctionCollapse</td>\n",
       "    </tr>\n",
       "    <tr>\n",
       "      <th>18</th>\n",
       "      <td>trekhleb</td>\n",
       "      <td>homemade-machine-learning</td>\n",
       "      <td>21700</td>\n",
       "      <td>https://github.com/trekhleb/homemade-machine-l...</td>\n",
       "    </tr>\n",
       "    <tr>\n",
       "      <th>19</th>\n",
       "      <td>AtsushiSakai</td>\n",
       "      <td>PythonRobotics</td>\n",
       "      <td>19600</td>\n",
       "      <td>https://github.com/AtsushiSakai/PythonRobotics</td>\n",
       "    </tr>\n",
       "  </tbody>\n",
       "</table>\n",
       "</div>"
      ],
      "text/plain": [
       "        Repository Owner                Repository Name  \\\n",
       "0                jwasham    coding-interview-university   \n",
       "1               trekhleb          javascript-algorithms   \n",
       "2          TheAlgorithms                         Python   \n",
       "3                CyC2018                       CS-Notes   \n",
       "4               yangshun        tech-interview-handbook   \n",
       "5                 kdn251                     interviews   \n",
       "6          TheAlgorithms                           Java   \n",
       "7           azl397985856                       leetcode   \n",
       "8   algorithm-visualizer           algorithm-visualizer   \n",
       "9        youngyangyang04                leetcode-master   \n",
       "10              halfrost                    LeetCode-Go   \n",
       "11                huihut                      interview   \n",
       "12           donnemartin  interactive-coding-challenges   \n",
       "13         TheAlgorithms                     JavaScript   \n",
       "14          crossoverJie                       JCSprout   \n",
       "15         TheAlgorithms                    C-Plus-Plus   \n",
       "16                  keon                     algorithms   \n",
       "17                 mxgmn           WaveFunctionCollapse   \n",
       "18              trekhleb      homemade-machine-learning   \n",
       "19          AtsushiSakai                 PythonRobotics   \n",
       "\n",
       "    Repository Star Count                                     Repository URL  \n",
       "0                  264000  https://github.com/jwasham/coding-interview-un...  \n",
       "1                  175000  https://github.com/trekhleb/javascript-algorithms  \n",
       "2                  168000            https://github.com/TheAlgorithms/Python  \n",
       "3                  167000                https://github.com/CyC2018/CS-Notes  \n",
       "4                   94400  https://github.com/yangshun/tech-interview-han...  \n",
       "5                   60300               https://github.com/kdn251/interviews  \n",
       "6                   53400              https://github.com/TheAlgorithms/Java  \n",
       "7                   52300           https://github.com/azl397985856/leetcode  \n",
       "8                   44200  https://github.com/algorithm-visualizer/algori...  \n",
       "9                   41600  https://github.com/youngyangyang04/leetcode-ma...  \n",
       "10                  30400            https://github.com/halfrost/LeetCode-Go  \n",
       "11                  30200                https://github.com/huihut/interview  \n",
       "12                  27800  https://github.com/donnemartin/interactive-cod...  \n",
       "13                  27600        https://github.com/TheAlgorithms/JavaScript  \n",
       "14                  27000           https://github.com/crossoverJie/JCSprout  \n",
       "15                  25500       https://github.com/TheAlgorithms/C-Plus-Plus  \n",
       "16                  22900                 https://github.com/keon/algorithms  \n",
       "17                  21700      https://github.com/mxgmn/WaveFunctionCollapse  \n",
       "18                  21700  https://github.com/trekhleb/homemade-machine-l...  \n",
       "19                  19600     https://github.com/AtsushiSakai/PythonRobotics  "
      ]
     },
     "execution_count": 39,
     "metadata": {},
     "output_type": "execute_result"
    }
   ],
   "source": [
    "get_topic_repos(get_topic_page(topic_urls[2]))"
   ]
  },
  {
   "cell_type": "markdown",
   "id": "6646282d",
   "metadata": {},
   "source": [
    "## [Topics Page + Top 30 Topics] Putting It All Together\n",
    "\n",
    "The functions below:\n",
    "- get_page_soup(url): Takes in a url, returns a BeautifulSoup object\n",
    "- get_topic_info(tag_type, class_name): Takes in the type of tag being parsed for in the html doc, as well as the specific class name of the information being searched for, and returns a list of that information\n",
    "- scrape_topics(): No input, scrapes the general topics webpage and creates a csv from a dataframe of the info on it\n",
    "- scrape_topic_repos(topics_url): Takes a url input of the individual topic webpage, creates a csv from a dataframe of the info on it\n",
    "- generate_all(): First it calls scrape_topics() to scrape the general topics webpage once, then loops scrape_topic_repos for however many repos are displayed on the topics webpage, creating 30 different csv files"
   ]
  },
  {
   "cell_type": "code",
   "execution_count": 40,
   "id": "888a4502",
   "metadata": {},
   "outputs": [],
   "source": [
    "def get_page_soup(url):\n",
    "    response = requests.get(url)\n",
    "    if response.status_code!= 200:\n",
    "        raise Exception('Failed to load pag{}'.format(url))\n",
    "    soupdoc = BeautifulSoup(response.text,\"html.parser\")\n",
    "    return soupdoc\n",
    "\n",
    "def get_topic_info(tag_type, class_name):\n",
    "    topic_tags = doc.find_all(tag_type, {'class': class_name})\n",
    "    topic_list = []\n",
    "    if tag_type!='a':\n",
    "        for tag in topic_tags:\n",
    "            topic_list.append(tag.text.strip())\n",
    "        return topic_list\n",
    "    else:\n",
    "        base_url = 'https://github.com'\n",
    "        for tag  in topic_tags:\n",
    "            topic_list.append(base_url + tag['href'])\n",
    "        return topic_list"
   ]
  },
  {
   "cell_type": "code",
   "execution_count": 44,
   "id": "4aa64f41",
   "metadata": {},
   "outputs": [],
   "source": [
    "def scrape_topics():\n",
    "    topics_url = 'https://github.com/topics'\n",
    "    doc = get_page_soup(topics_url)\n",
    "    \n",
    "    topic_name_class = 'f3 lh-condensed mb-0 mt-1 Link--primary'\n",
    "    topic_desc_class = 'f5 color-fg-muted mb-0 mt-1'\n",
    "    topic_link_class = 'no-underline flex-1 d-flex flex-column'\n",
    "   \n",
    "    topic_titles = get_topic_info('p', topic_name_class)\n",
    "    topic_descriptions = get_topic_info('p',  topic_desc_class)\n",
    "    topic_urls = get_topic_info('a', topic_link_class)\n",
    "        \n",
    "    topics_dict = {\n",
    "        'Topic Titles': topic_titles,\n",
    "        'Topic Descriptions': topic_descriptions,\n",
    "        'Topic URLs': topic_urls\n",
    "    }\n",
    "    \n",
    "    topics_df = pd.DataFrame(topics_dict)\n",
    "    filepath = r'C:/Users/asmig/dev-projects/ds/Github Web Scraping/Generated CSV Files/'\n",
    "    topics_df.to_csv(filepath + 'topics.csv', index=None)\n",
    "    return topics_df\n",
    "\n",
    "\n",
    "def scrape_topic_repos(topic_url):\n",
    "    topic_doc = get_page_soup(topic_url)\n",
    "    \n",
    "    page_tags = topic_doc.find_all('h3', {'class':'f3 color-fg-muted text-normal lh-condensed'})\n",
    "    repo_stars = topic_doc.find_all('span', {'id':'repo-stars-counter-star'})\n",
    "    \n",
    "    topic_repo_dict = {\n",
    "    'Repository Owner': [],\n",
    "    'Repository Name': [],\n",
    "    'Repository Star Count':[],\n",
    "    'Repository URL': []\n",
    "    }\n",
    "\n",
    "    for i in range(len(page_tags)):\n",
    "        repo_info = get_repo_info(page_tags[i], repo_stars[i])\n",
    "        topic_repo_dict['Repository Owner'].append(repo_info[0])\n",
    "        topic_repo_dict['Repository Name'].append(repo_info[1])\n",
    "        topic_repo_dict['Repository Star Count'].append(repo_info[3])\n",
    "        topic_repo_dict['Repository URL'].append(repo_info[2])\n",
    "        \n",
    "    new_df = pd.DataFrame(topic_repo_dict)\n",
    "    return new_df\n",
    "\n",
    "\n",
    "def generate_all():\n",
    "    scrape_topics()\n",
    "    filepath = r'C:/Users/asmig/dev-projects/ds/Github Web Scraping/Generated CSV Files/'\n",
    "    for i in range(len(topic_urls)):\n",
    "        scrape_topic_repos(topic_urls[i]).to_csv(filepath + topic_titles[i]+ '.csv', index=None)\n",
    "        "
   ]
  },
  {
   "cell_type": "code",
   "execution_count": 45,
   "id": "e193807a",
   "metadata": {},
   "outputs": [],
   "source": [
    "generate_all()"
   ]
  },
  {
   "cell_type": "markdown",
   "id": "fdd5a163",
   "metadata": {},
   "source": [
    "## Done! You can check out the completed .csv files in the '\\Generated CSV Files' Folder\n",
    "- Thanks for scrolling this far and checking my project out! Hope you have a good day!"
   ]
  }
 ],
 "metadata": {
  "kernelspec": {
   "display_name": "Python 3 (ipykernel)",
   "language": "python",
   "name": "python3"
  },
  "language_info": {
   "codemirror_mode": {
    "name": "ipython",
    "version": 3
   },
   "file_extension": ".py",
   "mimetype": "text/x-python",
   "name": "python",
   "nbconvert_exporter": "python",
   "pygments_lexer": "ipython3",
   "version": "3.10.9"
  }
 },
 "nbformat": 4,
 "nbformat_minor": 5
}
